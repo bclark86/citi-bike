{
 "cells": [
  {
   "cell_type": "code",
   "execution_count": 1,
   "metadata": {},
   "outputs": [],
   "source": [
    "import os\n",
    "import pandas_profiling as pp\n",
    "import pandas as pd\n",
    "\n",
    "# daily data location\n",
    "data_dir = \"data\"\n",
    "file_name = \"daily.csv\"\n",
    "\n",
    "# function to read in data and create profile summary\n",
    "def create_data_summary(file):\n",
    "    df = pd.read_csv(file)\n",
    "    \n",
    "    # create profile\n",
    "    profile = pp.ProfileReport(df)\n",
    "    profile.to_file(\"BikeSummary.html\")\n",
    "    \n",
    "    # return nothing\n",
    "    pass\n",
    "\n",
    "# create data summary\n",
    "create_data_summary(os.path.join(data_dir, file_name))"
   ]
  }
 ],
 "metadata": {
  "kernelspec": {
   "display_name": "Python 3",
   "language": "python",
   "name": "python3"
  },
  "language_info": {
   "codemirror_mode": {
    "name": "ipython",
    "version": 3
   },
   "file_extension": ".py",
   "mimetype": "text/x-python",
   "name": "python",
   "nbconvert_exporter": "python",
   "pygments_lexer": "ipython3",
   "version": "3.6.8"
  }
 },
 "nbformat": 4,
 "nbformat_minor": 2
}
